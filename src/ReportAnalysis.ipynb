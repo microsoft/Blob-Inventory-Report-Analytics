{
  "cells": [
    {
      "cell_type": "markdown",
      "metadata": {
        "nteract": {
          "transient": {
            "deleting": false
          }
        }
      },
      "source": [
        "**Blob Inventory Analytics Tool**"
      ]
    },
    {
      "cell_type": "markdown",
      "metadata": {},
      "source": [
        "# Copyright (c) Microsoft Corporation.\n",
        "# Licensed under the MIT License."
      ]
    },
    {
      "cell_type": "code",
      "execution_count": null,
      "metadata": {
        "jupyter": {
          "outputs_hidden": false,
          "source_hidden": false
        },
        "nteract": {
          "transient": {
            "deleting": false
          }
        }
      },
      "outputs": [],
      "source": [
        "# set the details of account and container where BlobInventoryStorageAccountConfiguration.json file is stored and the storage account \n",
        "# is connected to synapse workspace\n",
        "storage_account = \"DataLakeStorageGen2Account\"\n",
        "container_name = \"DataLakeStorageGen2Container\"\n",
        "file_name = \"BlobInventoryStorageAccountConfiguration\"\n",
        "\n",
        "# name of the database in which tables will be stored\n",
        "database_name = \"reportdata\""
      ]
    },
    {
      "cell_type": "code",
      "execution_count": null,
      "metadata": {
        "jupyter": {
          "outputs_hidden": false,
          "source_hidden": false
        },
        "nteract": {
          "transient": {
            "deleting": false
          }
        }
      },
      "outputs": [],
      "source": [
        "# uninstalling current version as BlobService is disabled in current version\n",
        "%pip uninstall azure-storage-blob --yes\n",
        "# installing previous version as BlobService is available in this version\n",
        "%pip install azure-storage-blob==2.1.0"
      ]
    },
    {
      "cell_type": "code",
      "execution_count": null,
      "metadata": {
        "jupyter": {
          "outputs_hidden": false,
          "source_hidden": false
        },
        "nteract": {
          "transient": {
            "deleting": false
          }
        }
      },
      "outputs": [],
      "source": [
        "# importing libraries\n",
        "from pyspark.sql import *\n",
        "from pyspark.sql.types import *\n",
        "from pyspark.sql.functions import *\n",
        "from pyspark.sql.functions import count as count\n",
        "from pyspark.sql.functions import substring_index\n",
        "from pyspark.sql.functions import lit\n",
        "from pyspark.sql.functions import col\n",
        "from azure.storage.blob import BlockBlobService\n",
        "import datetime\n",
        "import sys"
      ]
    },
    {
      "cell_type": "code",
      "execution_count": null,
      "metadata": {
        "jupyter": {
          "outputs_hidden": false,
          "source_hidden": false
        },
        "nteract": {
          "transient": {
            "deleting": false
          }
        }
      },
      "outputs": [],
      "source": [
        "# storing distribution of blobs in different containers \n",
        "def store_data_distribution_in_containers_details(csvFile, database_name):\n",
        "    # extracting container name from the 'Name' field\n",
        "    container_info_df = csvFile.withColumn(\"ContainerName\", substring_index(csvFile.Name, '/', 1))\n",
        "    # grouping dataframe on the basis of report generation date and then on the basis of container name\n",
        "    container_info_df = container_info_df.groupBy(['ReportGenerationDate','ContainerName']).sum('Content-Length').withColumnRenamed(\"sum(Content-Length)\", \"Size\")\n",
        "    container_info_df.write.mode('ignore').saveAsTable(\"{0}.ContainerInfo\".format(database_name))"
      ]
    },
    {
      "cell_type": "code",
      "execution_count": null,
      "metadata": {
        "jupyter": {
          "outputs_hidden": false,
          "source_hidden": false
        },
        "nteract": {
          "transient": {
            "deleting": false
          }
        }
      },
      "outputs": [],
      "source": [
        "# storing table containing blobtype and their corresponding count with respect to every inventory report analysed ( i.e report generation date)\n",
        "def store_data_distribution_in_blob_details(csvFile, database_name):\n",
        "    # grouping dataframe on the basis of report generation date and then further on the basis of Blob Type\n",
        "    blob_type_info_df = csvFile.groupBy(['ReportGenerationDate','BlobType']).agg({'Content-Length':'sum'}).withColumnRenamed(\"sum(Content-Length)\", \"Size\")\n",
        "    blob_type_info_df.write.mode('ignore').saveAsTable(\"{0}.BlobTypeInfo\".format(database_name))"
      ]
    },
    {
      "cell_type": "code",
      "execution_count": null,
      "metadata": {
        "jupyter": {
          "outputs_hidden": false,
          "source_hidden": false
        },
        "nteract": {
          "transient": {
            "deleting": false
          }
        }
      },
      "outputs": [],
      "source": [
        "# storing the distribution of blobs in different access tiers\n",
        "def store_data_distribution_in_access_tier_details(csvFile, database_name):\n",
        "    # filtering dataframe that are block blob and then grouping on the basis of report generation date and further on the basis of access tier to which that blob belong\n",
        "    access_tier_info_df = csvFile.filter(csvFile.BlobType==\"BlockBlob\").groupBy(['ReportGenerationDate','AccessTier']).agg({'Content-Length':'sum'}).withColumnRenamed(\"sum(Content-Length)\", \"Size\")\n",
        "    access_tier_info_df.write.mode('ignore').saveAsTable(\"{0}.AccessTierInfo\".format(database_name))"
      ]
    },
    {
      "cell_type": "code",
      "execution_count": null,
      "metadata": {
        "jupyter": {
          "outputs_hidden": false,
          "source_hidden": false
        },
        "nteract": {
          "transient": {
            "deleting": false
          }
        }
      },
      "outputs": [],
      "source": [
        "# storing soft deleted data size corresponding to the inventory report analysed\n",
        "def store_soft_deleted_data_size_details(csvFile, database_name):\n",
        "    if \"Deleted\" in csvFile.columns:\n",
        "        # filtering dataframe where Deleted column is set to True and then aggregating the Content-Length for those rows\n",
        "        soft_deleted_info_df = csvFile.filter(csvFile.Deleted==True)\n",
        "        # if there are is no soft deleted data, will fill the table with default value i.e 0 size\n",
        "        if soft_deleted_info_df.rdd.isEmpty():\n",
        "            soft_deleted_info_df = csvFile.groupBy(\"ReportGenerationDate\").agg({'Content-Length':'sum'}).withColumnRenamed(\"sum(Content-Length)\", \"Size\")\n",
        "            soft_deleted_info_df = soft_deleted_info_df.withColumn(\"Size\",lit(0))\n",
        "        else:\n",
        "            soft_deleted_info_df = soft_deleted_info_df.groupBy(\"ReportGenerationDate\").agg({'Content-Length':'sum'}).withColumnRenamed(\"sum(Content-Length)\", \"Size\")\n",
        "    else:\n",
        "        # filling the table wih default values ( i.e Size is 0 ) if 'Deleted' Column is not present\n",
        "        soft_deleted_info_df = csvFile.groupBy(\"ReportGenerationDate\").agg({'Content-Length':'sum'}).withColumnRenamed(\"sum(Content-Length)\", \"Size\")\n",
        "        soft_deleted_info_df = soft_deleted_info_df.withColumn(\"Size\",lit(0))\n",
        "    soft_deleted_info_df.write.mode('ignore').saveAsTable(\"{0}.SoftDeletedInfo\".format(database_name))"
      ]
    },
    {
      "cell_type": "code",
      "execution_count": null,
      "metadata": {
        "jupyter": {
          "outputs_hidden": false,
          "source_hidden": false
        },
        "nteract": {
          "transient": {
            "deleting": false
          }
        }
      },
      "outputs": [],
      "source": [
        "# storing the distribution of blob corresponding to the type of file ( ex - pdf, json, png )\n",
        "def store_content_type_distribution_details(csvFile, database_name):\n",
        "    # handling folder as a separate type of file\n",
        "    # filtering the dataframe for selecting folders by checking 'hdi_isfolder' column\n",
        "    if \"hdi_isfolder\" in csvFile.columns:\n",
        "        content_type_info_df = csvFile.withColumn(\"FileType\", when(csvFile['hdi_isfolder']==True,'Unknown').otherwise(substring_index(csvFile['Name'], '.', -1)))\n",
        "    else:\n",
        "        # selecting the right side of the last '.' in the Name column as the content-type of blob\n",
        "        content_type_info_df = csvFile.withColumn(\"FileType\", when(csvFile['Name'].contains(\".\"),substring_index(csvFile['Name'], '.', -1)).otherwise('Unknown'))\n",
        "    # grouping the dataframe on the basis of report generation date and further on the basis of type of file\n",
        "    content_type_info_by_count_df = content_type_info_df.groupBy(['ReportGenerationDate','FileType']).agg(sum('Content-Length').alias('Sum'))\n",
        "    content_type_info_by_count_df.write.mode('ignore').saveAsTable(\"{0}.ContentTypeInfo\".format(database_name))"
      ]
    },
    {
      "cell_type": "code",
      "execution_count": null,
      "metadata": {
        "jupyter": {
          "outputs_hidden": false,
          "source_hidden": false
        },
        "nteract": {
          "transient": {
            "deleting": false
          }
        }
      },
      "outputs": [],
      "source": [
        "# storing Content-Length of the data corresponding to the report being analysed\n",
        "# it tells the growth in the size of data in the storage account\n",
        "def store_data_growth_in_account_details(csvFile, database_name):\n",
        "    # creating dataframe and storing table containing Date and corresponding data size on that day \n",
        "    # by grouping the data on the basis of report generation date and then aggregating the Content-Length\n",
        "    growth_in_data_df = csvFile.groupBy('ReportGenerationDate').sum('Content-Length').withColumnRenamed(\"sum(Content-Length)\", \"Size\").orderBy(\"ReportGenerationDate\",\"Size\")\n",
        "    growth_in_data_df.write.mode('ignore').saveAsTable(\"{0}.dailyDataSizeInfo\".format(database_name))"
      ]
    },
    {
      "cell_type": "code",
      "execution_count": null,
      "metadata": {
        "jupyter": {
          "outputs_hidden": false,
          "source_hidden": false
        },
        "nteract": {
          "transient": {
            "deleting": false
          }
        }
      },
      "outputs": [],
      "source": [
        "# storing the amount of data created on respective date\n",
        "def store_data_creation_in_account_details(csvFile, database_name):\n",
        "    # converting the 'Creation-Time' column to date type\n",
        "    data_creation_with_time_df = csvFile.withColumn(\"Date\", to_date(csvFile['Creation-Time'], 'dd-MM-yyyy'))\n",
        "    # grouping the dataframe on the basis of 'Creation-Date' and aggregating the Content-Length\n",
        "    data_creation_with_time_df = data_creation_with_time_df.groupBy('Date').sum('Content-Length').withColumnRenamed(\"sum(Content-Length)\", \"Size\")\n",
        "    data_creation_with_time_df.write.mode('ignore').saveAsTable(\"{0}.dataCreationWithTime\".format(database_name))"
      ]
    },
    {
      "cell_type": "code",
      "execution_count": null,
      "metadata": {
        "jupyter": {
          "outputs_hidden": false,
          "source_hidden": false
        },
        "nteract": {
          "transient": {
            "deleting": false
          }
        }
      },
      "outputs": [],
      "source": [
        "def store_last_access_time_details_for_df(last_access_time_df, table_name, max_ts, min_ts, database_name, csvFile):\n",
        "    # filtering the dataframe on the basis of the last report analysed (date basis) as we will only use last report to get the LastAccessTime\n",
        "    last_access_time_df = last_access_time_df.filter(last_access_time_df.ReportGenerationDate==max_ts)\n",
        "    if \"LastAccessTime\" in csvFile.columns:\n",
        "        # changing datatype of column LastAccessTime to Date type\n",
        "        last_access_time_df = last_access_time_df.withColumn(\"LastAccessTime\", to_date('LastAccessTime'))\n",
        "        # if LastAccessTime is null or empty, will fill it with the total span of days for which the reports are generated calcuated by subtracting current date minus the date of first report generated(current date  - min_ts)\n",
        "        last_access_time_df = last_access_time_df.withColumn(\"DaysLastAccessed\", when((last_access_time_df[\"LastAccessTime\"].isNull() | (last_access_time_df[\"LastAccessTime\"]=='')),(datetime.datetime.now().date()-min_ts).days).otherwise(((unix_timestamp(current_date(),\"dd\") - unix_timestamp(last_access_time_df[\"LastAccessTime\"], \"dd\"))/86400).cast(IntegerType())))\n",
        "    else:\n",
        "        # using default value for 'DaysLastAccessed' as the number of days between current date and first generated report date\n",
        "        last_access_time_df = last_access_time_df.withColumn(\"DaysLastAccessed\", (datetime.datetime.now().date()-min_ts).days)\n",
        "    # creating a column 'TotalSize' that stores the total amount of data present in hot tier and is block blob\n",
        "    last_access_time_df = last_access_time_df.withColumn(\"TotalSize\",lit(last_access_time_df.agg({\"Content-Length\":\"sum\"}).collect()[0][0]))\n",
        "    # if the dataframe is empty, then will fill with default values\n",
        "    if last_access_time_df.rdd.isEmpty():\n",
        "        last_access_time_df = spark.createDataFrame([Row(max_ts,\"Name1\",0,0,0),Row(min_ts,\"Name2\",0,(datetime.datetime.now().date()-min_ts).days,0)],[\"ReportGenerationDate\",\"Name\",\"Content-Length\",\"DaysLastAccessed\",\"TotalSize\"])\n",
        "    last_access_time_df.select(\"ReportGenerationDate\",\"Name\",\"Content-Length\",\"DaysLastAccessed\",\"TotalSize\").write.mode('ignore').saveAsTable(\"{0}.{1}\".format(database_name, table_name))\n",
        "\n",
        "# storing the Name, Content-Length of the file along with the days for which it is not accessed (i.e Current Date minus the LastAccessTime)\n",
        "def store_last_access_time_details(csvFile, database_name):\n",
        "    \n",
        "    # filtering the dataframe whether the data is in Block blob\n",
        "    last_access_time_df = csvFile.filter(csvFile.BlobType==\"BlockBlob\")\n",
        "    # storing the date of the last inventory report analysed\n",
        "    max_ts = csvFile.agg({\"ReportGenerationDate\": \"max\"}).collect()[0][0]\n",
        "    # storing the date to the first inventory report analysed\n",
        "    min_ts = csvFile.agg({\"ReportGenerationDate\": \"min\"}).collect()[0][0]\n",
        "\n",
        "    last_access_time_hot_tier_df = last_access_time_df.filter(last_access_time_df.AccessTier==\"Hot\")\n",
        "    last_access_time_cool_tier_df = last_access_time_df.filter(last_access_time_df.AccessTier==\"Cool\")\n",
        "\n",
        "    store_last_access_time_details_for_df(last_access_time_hot_tier_df, \"lastAccessTimeHotTier\", max_ts, min_ts, database_name, csvFile)\n",
        "    store_last_access_time_details_for_df(last_access_time_cool_tier_df, \"lastAccessTimeCoolTier\", max_ts, min_ts, database_name, csvFile)"
      ]
    },
    {
      "cell_type": "code",
      "execution_count": null,
      "metadata": {
        "jupyter": {
          "outputs_hidden": false,
          "source_hidden": false
        },
        "nteract": {
          "transient": {
            "deleting": false
          }
        }
      },
      "outputs": [],
      "source": [
        "# storing the size of data occupied by snapshots\n",
        "def store_data_occupied_by_snapshot_details(csvFile, database_name):\n",
        "    # checking whether 'Snapshot' field is present in the inventory report(dataframe)\n",
        "    if \"Snapshot\" in csvFile.columns:\n",
        "        # dropping all the rows having null values in Snapshot column\n",
        "        snapshot_data_df = csvFile.na.drop(how='all',subset=['Snapshot'])\n",
        "        if snapshot_data_df.rdd.isEmpty():\n",
        "            snapshot_data_df = csvFile.groupBy(\"ReportGenerationDate\").agg({'Content-Length':'sum'}).withColumnRenamed(\"sum(Content-Length)\", \"Size\")\n",
        "            # using default value of Snapshot size as 0 as 'Snapshot' field is disabled\n",
        "            snapshot_data_df = snapshot_data_df.withColumn(\"Size\", lit(0))\n",
        "        else:\n",
        "            # grouping dataframe on the basis of report generation date and then aggregating the Content-Length\n",
        "            snapshot_data_df = snapshot_data_df.groupBy(\"ReportGenerationDate\").agg({'Content-Length':'sum'}).withColumnRenamed(\"sum(Content-Length)\", \"Size\")\n",
        "    else:\n",
        "        snapshot_data_df = csvFile.groupBy(\"ReportGenerationDate\").agg({'Content-Length':'sum'}).withColumnRenamed(\"sum(Content-Length)\", \"Size\")\n",
        "        # using default value of Snapshot size as 0 as 'Snapshot' field is disabled\n",
        "        snapshot_data_df = snapshot_data_df.withColumn(\"Size\", lit(0))\n",
        "    snapshot_data_df.write.mode('ignore').saveAsTable(\"{0}.snapshotData\".format(database_name))"
      ]
    },
    {
      "cell_type": "code",
      "execution_count": null,
      "metadata": {
        "jupyter": {
          "outputs_hidden": false,
          "source_hidden": false
        },
        "nteract": {
          "transient": {
            "deleting": false
          }
        }
      },
      "outputs": [],
      "source": [
        "# storing number of modifications done corresponding to the respective date\n",
        "def store_modifications_in_data_details(csvFile, database_name):\n",
        "    #checking whether Last-Modified field is present in the inventory report\n",
        "    if \"Last-Modified\" in csvFile.columns:\n",
        "        last_modified_count_df = csvFile.withColumn(\"Date\", to_date(csvFile['Last-Modified'], 'dd-MM-yyyy'))\n",
        "        last_modified_count_df = last_modified_count_df.groupBy('Date').agg(count('Date').alias('NumberOfModifications'))\n",
        "    else:\n",
        "        last_modified_count_df = csvFile.groupBy('ReportGenerationDate').agg(count('ReportGenerationDate').alias('NumberOfModifications'))\n",
        "        # using default value as 0 to show that 'Last-Modified' field is not present and we need entry for every report date analysed otherwise it will hamper the relationship between tables\n",
        "        last_modified_count_df = last_modified_count_df.withColumn(\"NumberOfModifications\", lit(0))\n",
        "    last_modified_count_df.write.mode('ignore').saveAsTable(\"{0}.lastModifiedCount\".format(database_name))"
      ]
    },
    {
      "cell_type": "code",
      "execution_count": null,
      "metadata": {
        "jupyter": {
          "outputs_hidden": false,
          "source_hidden": false
        },
        "nteract": {
          "transient": {
            "deleting": false
          }
        }
      },
      "outputs": [],
      "source": [
        "# storing the dates i.e report generation date of all the reports analysed\n",
        "def store_reports_analysed_dates(csvFile, database_name):\n",
        "    reports_analysed_df = csvFile.select(\"ReportGenerationDate\").distinct()\n",
        "    reports_analysed_df.write.mode('ignore').saveAsTable(\"{0}.reportsanalysed\".format(database_name))"
      ]
    },
    {
      "cell_type": "code",
      "execution_count": null,
      "metadata": {
        "jupyter": {
          "outputs_hidden": false,
          "source_hidden": false
        },
        "nteract": {
          "transient": {
            "deleting": false
          }
        }
      },
      "outputs": [],
      "source": [
        "# returns all the json file links to the respective inventory reports (by providing the destination container and the rule name along with storage account credentials)\n",
        "def get_json_link_of_reports(storage_account_name, access_key, destination_container, rule_name):\n",
        "    blob_service = BlockBlobService(storage_account_name, access_key)\n",
        "    # list the relative path to all the blobs present in the destination container\n",
        "    try:\n",
        "        blob_list = blob_service.list_blobs(destination_container)\n",
        "    except Exception as e:\n",
        "        print(\"Error: Container does not exist\", e)\n",
        "        return\n",
        "    # storing the links to all the blob inventory reports\n",
        "    links_list = []\n",
        "    # iterating over the returned list of relative path to blobs\n",
        "    for blob in blob_list:\n",
        "        # checking if the relative path contains 'ruleName-manifest.json' and correspondingly creating a link to that json file\n",
        "        if rule_name+\"-manifest.json\" in blob.name:\n",
        "            link = \"wasbs://{0}@{1}.blob.core.windows.net/{2}\".format(destination_container,storage_account_name,blob.name)\n",
        "            links_list.append(link)\n",
        "    return links_list"
      ]
    },
    {
      "cell_type": "code",
      "execution_count": null,
      "metadata": {
        "jupyter": {
          "outputs_hidden": false,
          "source_hidden": false
        },
        "nteract": {
          "transient": {
            "deleting": false
          }
        }
      },
      "outputs": [],
      "source": [
        "# calling functions for respective processing and storing them in the form of tables\n",
        "# every table corresponds to respective visualization\n",
        "def populating_tables(csvFile, database_name):\n",
        "    # checking if the dataframe is empty that is no data to process\n",
        "    if csvFile.rdd.isEmpty():\n",
        "        return\n",
        "    store_data_distribution_in_containers_details(csvFile, database_name)\n",
        "    store_data_distribution_in_blob_details(csvFile, database_name)\n",
        "    store_data_distribution_in_access_tier_details(csvFile, database_name)\n",
        "    store_soft_deleted_data_size_details(csvFile, database_name)\n",
        "    store_content_type_distribution_details(csvFile, database_name)\n",
        "    store_data_growth_in_account_details(csvFile, database_name)\n",
        "    store_data_creation_in_account_details(csvFile, database_name)\n",
        "    store_last_access_time_details(csvFile, database_name)\n",
        "    store_data_occupied_by_snapshot_details(csvFile, database_name)\n",
        "    store_modifications_in_data_details(csvFile, database_name)\n",
        "    store_reports_analysed_dates(csvFile, database_name)"
      ]
    },
    {
      "cell_type": "code",
      "execution_count": null,
      "metadata": {
        "jupyter": {
          "outputs_hidden": false,
          "source_hidden": false
        },
        "nteract": {
          "transient": {
            "deleting": false
          }
        }
      },
      "outputs": [],
      "source": [
        "# setting the credentials of the spark session\n",
        "def setting_credentials(storage_account_name, access_key):\n",
        "    access_link = \"fs.azure.account.key.{0}.blob.core.windows.net\".format(storage_account_name)\n",
        "    try:\n",
        "        spark.conf.set(access_link,access_key)\n",
        "    except Exception as e:\n",
        "        print(\"Error: Unable to set credentials for spark session\", e)"
      ]
    },
    {
      "cell_type": "code",
      "execution_count": null,
      "metadata": {
        "jupyter": {
          "outputs_hidden": false,
          "source_hidden": false
        },
        "nteract": {
          "transient": {
            "deleting": false
          }
        }
      },
      "outputs": [],
      "source": [
        "# processing multiple inventory reports by processing their respective json file and adding them to the dataframe\n",
        "def processing_reports(list_of_report_links_json_file, report_dates_analysed):\n",
        "    \n",
        "    reports_analysed = []\n",
        "    fileData = None\n",
        "    # iterating over rest of the the rows\n",
        "    for json_file_report_link in list_of_report_links_json_file:\n",
        "        try:\n",
        "            report_df = spark.read.option(\"multiLine\", \"true\").json(json_file_report_link)\n",
        "        except Exception as e:\n",
        "            print(\"Error: Unable to access Blob Inventory Report Json File\", e)\n",
        "            return\n",
        "\n",
        "        try:\n",
        "            data_collect = report_df.collect()[0]\n",
        "        except Exception as e:\n",
        "            print(\"Error: Unable to read Blob Inventory Report Json File\", e)\n",
        "            return\n",
        "\n",
        "        # skip if the report is pending\n",
        "        if(data_collect[\"status\"]=='Pending'):\n",
        "            continue\n",
        "\n",
        "        destination_container = data_collect[\"destinationContainer\"]\n",
        "        report_generation_date = data_collect[\"inventoryCompletionTime\"].split(\"T\")[0]\n",
        "        file_format = data_collect[\"ruleDefinition\"][\"format\"]\n",
        "      \n",
        "        # skip if the report if already analysed\n",
        "        if report_generation_date in reports_analysed or report_generation_date in report_dates_analysed:\n",
        "            continue\n",
        "\n",
        "        if (len(data_collect[\"files\"]) == 0):\n",
        "            continue\n",
        "\n",
        "        fileDataTemp = None\n",
        "        for partitioned_file in data_collect[\"files\"]:\n",
        "            prefix_path = data_collect[\"files\"][0][\"blob\"]\n",
        "            fileLink = \"wasbs://{0}@{1}.blob.core.windows.net/{2}\".format(destination_container, storage_account_name, prefix_path)\n",
        "\n",
        "            # checking whether the report is in csv or parquet format\n",
        "            try:\n",
        "                if file_format==\"csv\":\n",
        "                    partitionedFileDataTemp = spark.read.csv(fileLink, header=True, inferSchema=True)\n",
        "                else:\n",
        "                    partitionedFileDataTemp = spark.read.parquet(fileLink)\n",
        "            except Exception as e:\n",
        "                print(\"Error: Unable to access Blob Inventory Reports\", e)\n",
        "                return\n",
        "\n",
        "            if fileDataTemp is None:\n",
        "                fileDataTemp = partitionedFileDataTemp\n",
        "            else:\n",
        "                fileDataTemp = fileDataTemp.unionByName(partitionedFileDataTemp, allowMissingColumns=True)\n",
        "\n",
        "        fileDataTemp = fileDataTemp.withColumn('ReportGenerationDate',lit(report_generation_date))\n",
        "        reports_analysed.append(report_generation_date)\n",
        "        try:\n",
        "            if fileData is None:\n",
        "                fileData = fileDataTemp\n",
        "            else:\n",
        "                fileData = fileData.unionByName(fileDataTemp, allowMissingColumns=True)\n",
        "        except Exception as e:\n",
        "            print(\"Error: Blob Inventory Reports have mis-matching fields\", e)\n",
        "            return\n",
        "    \n",
        "    if fileData is None:\n",
        "        return None\n",
        "        \n",
        "    # changing datatype of column Content-Length from string to integer\n",
        "    try:\n",
        "        fileData = fileData.withColumn(\"Content-Length\", fileData[\"Content-Length\"].cast(IntegerType()))\n",
        "    except Exception as e:\n",
        "        print(\"Error: Content-Length field is missing from the inventory reports\", e)\n",
        "    # changing datatype of column ReportGenerationDate to Date type\n",
        "    fileData = fileData.withColumn(\"ReportGenerationDate\", to_date('ReportGenerationDate'))\n",
        "    \n",
        "    return fileData"
      ]
    },
    {
      "cell_type": "code",
      "execution_count": null,
      "metadata": {
        "jupyter": {
          "outputs_hidden": false,
          "source_hidden": false
        },
        "nteract": {
          "transient": {
            "deleting": false
          }
        }
      },
      "outputs": [],
      "source": [
        "# processing and returning the configuration file data\n",
        "def get_configuration_file_data(storage_account, container_name, file_name):\n",
        "    configuration_file_link = \"abfss://{0}@{1}.dfs.core.windows.net/{2}.json\".format(container_name, storage_account, file_name)\n",
        "    try:\n",
        "        configuration_file = spark.read.option(\"multiLine\", \"true\").json(configuration_file_link)\n",
        "    except Exception as e:\n",
        "        print(\"Error: Unable to access Blob Inventory Storage Account Configuration File\", e)\n",
        "        return\n",
        "    try:\n",
        "        configuration_file_data = configuration_file.collect()[0]\n",
        "    except Exception as e:\n",
        "        print(\"Error: Unable to read Blob Inventory Storage Account Configuration File\", e)\n",
        "        return\n",
        "    return configuration_file_data"
      ]
    },
    {
      "cell_type": "code",
      "execution_count": null,
      "metadata": {
        "jupyter": {
          "outputs_hidden": false,
          "source_hidden": false
        },
        "nteract": {
          "transient": {
            "deleting": false
          }
        }
      },
      "outputs": [],
      "source": [
        "# returns the list of all the reports that are analysed till now by returning the data stored in the table 'reportsanalysed'\n",
        "def get_report_dates(database_name):\n",
        "    # creating database if it does not exist\n",
        "    spark.sql(\"CREATE DATABASE IF NOT EXISTS {0}\".format(database_name))\n",
        "    # retrieving al the tables stored in the database\n",
        "    table_list=spark.sql(\"SHOW TABLES IN {0}\".format(database_name))\n",
        "    # filtering whether 'reportsanalysed' table is present in the database \n",
        "    table_data=table_list.filter(table_list.tableName==\"reportsanalysed\").collect()\n",
        "    # list of all the reports analysed \n",
        "    table_res_list = []\n",
        "    if len(table_data)>0:\n",
        "        # fetching the 'reportsanalysed' table\n",
        "        fetch_table = \"SELECT * FROM {0}.reportsanalysed\".format(database_name)\n",
        "        table_res = spark.sql(fetch_table)\n",
        "        # changing datatype of column ReportGenerationDate from DateType to StringType\n",
        "        table_res = table_res.withColumn(\"ReportGenerationDate\", table_res[\"ReportGenerationDate\"].cast(StringType()))\n",
        "        # converting the dataframe to the list type\n",
        "        table_res_list = table_res.select(\"ReportGenerationDate\").rdd.flatMap(lambda x: x).collect()\n",
        "    return table_res_list"
      ]
    },
    {
      "cell_type": "code",
      "execution_count": null,
      "metadata": {
        "jupyter": {
          "outputs_hidden": false,
          "source_hidden": false
        },
        "nteract": {
          "transient": {
            "deleting": false
          }
        }
      },
      "outputs": [],
      "source": [
        "# reading the data from template file\n",
        "json_file_data = get_configuration_file_data(storage_account, container_name, file_name)\n",
        "\n",
        "# initializing with the data stored in template file\n",
        "try:\n",
        "    storage_account_name = json_file_data[\"storageAccountName\"]\n",
        "    access_key = json_file_data[\"accessKey\"]\n",
        "    destination_container = json_file_data[\"destinationContainer\"]\n",
        "    rule_name = json_file_data[\"blobInventoryRuleName\"]\n",
        "except Exception as e:\n",
        "    print(\"Error: Invalid Format of Blob Inventory Storage Account Configuration File\", e)\n",
        "    mssparkutils.notebook.exit(\"0\")\n",
        "\n",
        "# setting credentials for the spark session\n",
        "setting_credentials(storage_account_name, access_key)\n",
        "\n",
        "# list of all the report links\n",
        "list_of_report_links = get_json_link_of_reports(storage_account_name, access_key, destination_container, rule_name)\n",
        "\n",
        "if(len(list_of_report_links)!=0):\n",
        "    # retreving all the reports analysed till now\n",
        "    report_dates_analysed = get_report_dates(database_name)\n",
        "\n",
        "    # processsing all the reports in a dataframe\n",
        "    file_data = processing_reports(list_of_report_links, report_dates_analysed)\n",
        "    if file_data is None:\n",
        "        print(\"Nothing to process. Exiting...\")\n",
        "        mssparkutils.notebook.exit(\"1\")\n",
        "\n",
        "    # storing all processed dataframes in respective tables\n",
        "    populating_tables(file_data, database_name)"
      ]
    },
    {
      "cell_type": "code",
      "execution_count": null,
      "metadata": {
        "jupyter": {
          "outputs_hidden": false,
          "source_hidden": false
        },
        "nteract": {
          "transient": {
            "deleting": false
          }
        }
      },
      "outputs": [],
      "source": [
        "def cleanup():\n",
        "    database_name = \"reportdata\"\n",
        "\n",
        "    # command to drop the database and the corresponding tables\n",
        "    spark.sql(\"DROP DATABASE IF EXISTS {0} CASCADE\".format(database_name))\n",
        "\n",
        "    # command to iterate over a table\n",
        "    table_name = \"blobtypeinfo\"\n",
        "    spark.sql('SELECT * from {0}.{1}'.format(database_name, table_name)).show()\n"
      ]
    }
  ],
  "metadata": {
    "description": null,
    "kernel_info": {
      "name": "synapse_pyspark"
    },
    "kernelspec": {
      "display_name": "Python 3.10.5 64-bit",
      "language": "python",
      "name": "python3"
    },
    "language_info": {
      "name": "python",
      "version": "3.10.5"
    },
    "save_output": true,
    "synapse_widget": {
      "state": {},
      "version": "0.1"
    },
    "vscode": {
      "interpreter": {
        "hash": "f7cb2d1e4573158f0d4864f653abea8aae9052d432072317f6bad012f009ec0d"
      }
    }
  },
  "nbformat": 4,
  "nbformat_minor": 2
}
